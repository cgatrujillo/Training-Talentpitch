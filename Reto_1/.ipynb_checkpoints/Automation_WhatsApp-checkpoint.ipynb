{
 "cells": [
  {
   "cell_type": "code",
   "execution_count": 10,
   "id": "526b569d",
   "metadata": {},
   "outputs": [],
   "source": [
    "import pywhatkit\n",
    "\n",
    "# https://chat.whatsapp.com/Gu0Ash3ZNKM2S36AaGO5fA\n",
    "# https://chat.whatsapp.com/GKAs46ntkx4Awo5tn6tbPh\n",
    "# https://chat.whatsapp.com/Lezpbu0sr2wDDkk8WClGE0\n",
    "\n",
    "# Unificar pywhatkit con Selenium para que le dé click a la casilla de escribir mensaje, antes probar en pc personal\n",
    "# Cuadrar para que se haga automáticamente cada día en un mes, usar Time para mirar hora del pc al prenderlo, poner +2,3,4 minutos\n",
    "# Con un loop crear mensaje y el envio de mensajes\n",
    "# Armar mensaje que se va a enviar\n",
    "\n",
    "#pywhatkit.sendwhatmsg_to_group('Gu0Ash3ZNKM2S36AaGO5fA', 'Buenas mano, soy un bot bzzz', 8, , tab_close=True)\n",
    "#pywhatkit.sendwhatmsg_to_group('GKAs46ntkx4Awo5tn6tbPh', 'Buenas mano, soy un bot bzzz', 8, 55, tab_close=True)\n",
    "pywhatkit.sendwhatmsg_to_group('Lezpbu0sr2wDDkk8WClGE0', message, 15, 0, tab_close=True)"
   ]
  },
  {
   "cell_type": "code",
   "execution_count": 34,
   "id": "7b369689",
   "metadata": {},
   "outputs": [
    {
     "data": {
      "text/plain": [
       "'Holi, newwws: \\n\\n            1) Onyze capta 1,2 millones de euros : En la operación ha participado principalmente The Valley Venture, convertido en el principal inversor de la start up, que quiere iniciar su expansión internacional. \\n\\n            https://www.expansion.com/expansion-empleo/emprendedores/2022/04/19/625e926e468aeb395a8b45a3.html \\n\\n            2) Plataforma digital para compra de finca raíz se expande en Colombia : La proptech llega a Barranquilla, Bogotá, Bucaramanga, Cali, Ibagué, Medellín, Manizales, Armenia y Pereira. \\n\\n            https://www.portafolio.co/negocios/emprendimiento/plataforma-digital-para-compra-de-finca-raiz-se-expande-en-colombia-561281 \\n\\n            3) LinkedIn Xray Search Will Find Your Next Hire : LinkedIn Xray Search by Recruitment Geek lets you dramatically speed up your LinkedIn headhunting.\\xa0 You can easily sift through this database of LinkedIn profiles by combining a host of candidate… Read more  \\n\\n            https://recruitingdaily.com/linkedin-xray-search-tool-by-recruitment-geek/ \\n\\n            4) EMLB Asociados : Creado para ofrecer un servicio integral a la Pyme, este despacho se adapta a las necesidades de cada cliente. \\n\\n            https://www.emprendedores.es/guia-juridica-fiscal/emlb-asociados/ \\n\\n            5) Mariano Alonso: \"Con el virus, los franquiciados se han reinventado para adaptarse a las exigencias del mercado\" : mundoFranquicia es algo más que una consultora. Ellos prefieren definirse como un departamento externo e integral de franquicias integrado en el organigrama de las empresas de nuestros clientes. Su vocación es la de... \\n\\n            //www.eleconomista.es/gestion-franquicias/noticias/11652763/03/22/Mariano-Alonso-Con-el-virus-los-franquiciados-se-han-reinventado-para-adaptarse-a-las-exigencias-del-mercado.html '"
      ]
     },
     "execution_count": 34,
     "metadata": {},
     "output_type": "execute_result"
    }
   ],
   "source": [
    "message.decode()"
   ]
  },
  {
   "cell_type": "code",
   "execution_count": 34,
   "id": "65d98ec9",
   "metadata": {},
   "outputs": [],
   "source": [
    "import pandas as pd"
   ]
  },
  {
   "cell_type": "code",
   "execution_count": 14,
   "id": "ca7e8b79",
   "metadata": {},
   "outputs": [
    {
     "data": {
      "text/plain": [
       "'Emprendedores'"
      ]
     },
     "execution_count": 14,
     "metadata": {},
     "output_type": "execute_result"
    }
   ],
   "source": [
    "communities = list(df['Comunidad'].unique())\n",
    "communities[0]"
   ]
  },
  {
   "cell_type": "code",
   "execution_count": 15,
   "id": "7c8a6c23",
   "metadata": {},
   "outputs": [
    {
     "data": {
      "text/html": [
       "<div>\n",
       "<style scoped>\n",
       "    .dataframe tbody tr th:only-of-type {\n",
       "        vertical-align: middle;\n",
       "    }\n",
       "\n",
       "    .dataframe tbody tr th {\n",
       "        vertical-align: top;\n",
       "    }\n",
       "\n",
       "    .dataframe thead th {\n",
       "        text-align: right;\n",
       "    }\n",
       "</style>\n",
       "<table border=\"1\" class=\"dataframe\">\n",
       "  <thead>\n",
       "    <tr style=\"text-align: right;\">\n",
       "      <th></th>\n",
       "      <th>Comunidad</th>\n",
       "      <th>Titulos</th>\n",
       "      <th>Links</th>\n",
       "      <th>Descripciones</th>\n",
       "    </tr>\n",
       "  </thead>\n",
       "  <tbody>\n",
       "    <tr>\n",
       "      <th>0</th>\n",
       "      <td>Emprendedores</td>\n",
       "      <td>Iniciativa Fiscal</td>\n",
       "      <td>https://www.emprendedores.es/sin-categoria/ini...</td>\n",
       "      <td>Iniciativa Fiscal se constituye como sociedad ...</td>\n",
       "    </tr>\n",
       "    <tr>\n",
       "      <th>1</th>\n",
       "      <td>Emprendedores</td>\n",
       "      <td>El nuevo impuesto de plusvalía en diez puntos ...</td>\n",
       "      <td>https://www.emprendedores.es/guia-fiscal-jurid...</td>\n",
       "      <td>Después de que el Tribunal Constitucional anul...</td>\n",
       "    </tr>\n",
       "    <tr>\n",
       "      <th>2</th>\n",
       "      <td>Emprendedores</td>\n",
       "      <td>Puesta a punto para estar al día en la gestión...</td>\n",
       "      <td>https://www.emprendedores.es/guia-juridica-fis...</td>\n",
       "      <td>Tanto el 2021 como el 2022 son años extraordin...</td>\n",
       "    </tr>\n",
       "    <tr>\n",
       "      <th>3</th>\n",
       "      <td>Emprendedores</td>\n",
       "      <td>El nuevo valor de referencia para bienes inmue...</td>\n",
       "      <td>https://www.emprendedores.es/guia-fiscal-jurid...</td>\n",
       "      <td>Una novedad introducida por la Ley contra el f...</td>\n",
       "    </tr>\n",
       "    <tr>\n",
       "      <th>4</th>\n",
       "      <td>Emprendedores</td>\n",
       "      <td>Cómo respetar la protección de datos durante l...</td>\n",
       "      <td>https://www.emprendedores.es/ayudas/como-respe...</td>\n",
       "      <td>El Reglamento General de Protección de Datos (...</td>\n",
       "    </tr>\n",
       "    <tr>\n",
       "      <th>...</th>\n",
       "      <td>...</td>\n",
       "      <td>...</td>\n",
       "      <td>...</td>\n",
       "      <td>...</td>\n",
       "    </tr>\n",
       "    <tr>\n",
       "      <th>146</th>\n",
       "      <td>Emprendedores</td>\n",
       "      <td>En España hay más de 650.000 mujeres emprended...</td>\n",
       "      <td>//www.eleconomista.es/gestion-empresarial/noti...</td>\n",
       "      <td>En España hay más de 650.000 mujeres emprended...</td>\n",
       "    </tr>\n",
       "    <tr>\n",
       "      <th>147</th>\n",
       "      <td>Emprendedores</td>\n",
       "      <td>Mariano Alonso: \"Con el virus, los franquiciad...</td>\n",
       "      <td>//www.eleconomista.es/gestion-franquicias/noti...</td>\n",
       "      <td>mundoFranquicia es algo más que una consultora...</td>\n",
       "    </tr>\n",
       "    <tr>\n",
       "      <th>148</th>\n",
       "      <td>Emprendedores</td>\n",
       "      <td>España está de moda</td>\n",
       "      <td>//www.eleconomista.es/gestion-franquicias/noti...</td>\n",
       "      <td>Adolfo Domínguez, Zara, Bimba y Lola o Mango, ...</td>\n",
       "    </tr>\n",
       "    <tr>\n",
       "      <th>149</th>\n",
       "      <td>Emprendedores</td>\n",
       "      <td>Emilio Froján: \"Para traer nuestra producción ...</td>\n",
       "      <td>//www.eleconomista.es/flash-emprendedores/noti...</td>\n",
       "      <td>Velca es una marca española de motos y ciclomo...</td>\n",
       "    </tr>\n",
       "    <tr>\n",
       "      <th>150</th>\n",
       "      <td>Emprendedores</td>\n",
       "      <td>Emprender en salud: las claves del éxito para ...</td>\n",
       "      <td>//www.eleconomista.es/aragon/noticias/11616909...</td>\n",
       "      <td>Los tiempos de incertidumbre dejan lecciones a...</td>\n",
       "    </tr>\n",
       "  </tbody>\n",
       "</table>\n",
       "<p>151 rows × 4 columns</p>\n",
       "</div>"
      ],
      "text/plain": [
       "         Comunidad                                            Titulos  \\\n",
       "0    Emprendedores                                  Iniciativa Fiscal   \n",
       "1    Emprendedores  El nuevo impuesto de plusvalía en diez puntos ...   \n",
       "2    Emprendedores  Puesta a punto para estar al día en la gestión...   \n",
       "3    Emprendedores  El nuevo valor de referencia para bienes inmue...   \n",
       "4    Emprendedores  Cómo respetar la protección de datos durante l...   \n",
       "..             ...                                                ...   \n",
       "146  Emprendedores  En España hay más de 650.000 mujeres emprended...   \n",
       "147  Emprendedores  Mariano Alonso: \"Con el virus, los franquiciad...   \n",
       "148  Emprendedores                                España está de moda   \n",
       "149  Emprendedores  Emilio Froján: \"Para traer nuestra producción ...   \n",
       "150  Emprendedores  Emprender en salud: las claves del éxito para ...   \n",
       "\n",
       "                                                 Links  \\\n",
       "0    https://www.emprendedores.es/sin-categoria/ini...   \n",
       "1    https://www.emprendedores.es/guia-fiscal-jurid...   \n",
       "2    https://www.emprendedores.es/guia-juridica-fis...   \n",
       "3    https://www.emprendedores.es/guia-fiscal-jurid...   \n",
       "4    https://www.emprendedores.es/ayudas/como-respe...   \n",
       "..                                                 ...   \n",
       "146  //www.eleconomista.es/gestion-empresarial/noti...   \n",
       "147  //www.eleconomista.es/gestion-franquicias/noti...   \n",
       "148  //www.eleconomista.es/gestion-franquicias/noti...   \n",
       "149  //www.eleconomista.es/flash-emprendedores/noti...   \n",
       "150  //www.eleconomista.es/aragon/noticias/11616909...   \n",
       "\n",
       "                                         Descripciones  \n",
       "0    Iniciativa Fiscal se constituye como sociedad ...  \n",
       "1    Después de que el Tribunal Constitucional anul...  \n",
       "2    Tanto el 2021 como el 2022 son años extraordin...  \n",
       "3    Una novedad introducida por la Ley contra el f...  \n",
       "4    El Reglamento General de Protección de Datos (...  \n",
       "..                                                 ...  \n",
       "146  En España hay más de 650.000 mujeres emprended...  \n",
       "147  mundoFranquicia es algo más que una consultora...  \n",
       "148  Adolfo Domínguez, Zara, Bimba y Lola o Mango, ...  \n",
       "149  Velca es una marca española de motos y ciclomo...  \n",
       "150  Los tiempos de incertidumbre dejan lecciones a...  \n",
       "\n",
       "[151 rows x 4 columns]"
      ]
     },
     "execution_count": 15,
     "metadata": {},
     "output_type": "execute_result"
    }
   ],
   "source": [
    "df[df['Comunidad'] == communities[0]]"
   ]
  },
  {
   "cell_type": "code",
   "execution_count": 22,
   "id": "49795e68",
   "metadata": {},
   "outputs": [
    {
     "data": {
      "text/html": [
       "<div>\n",
       "<style scoped>\n",
       "    .dataframe tbody tr th:only-of-type {\n",
       "        vertical-align: middle;\n",
       "    }\n",
       "\n",
       "    .dataframe tbody tr th {\n",
       "        vertical-align: top;\n",
       "    }\n",
       "\n",
       "    .dataframe thead th {\n",
       "        text-align: right;\n",
       "    }\n",
       "</style>\n",
       "<table border=\"1\" class=\"dataframe\">\n",
       "  <thead>\n",
       "    <tr style=\"text-align: right;\">\n",
       "      <th></th>\n",
       "      <th>Comunidad</th>\n",
       "      <th>Titulos</th>\n",
       "      <th>Links</th>\n",
       "      <th>Descripciones</th>\n",
       "    </tr>\n",
       "  </thead>\n",
       "  <tbody>\n",
       "    <tr>\n",
       "      <th>102</th>\n",
       "      <td>Emprendedores</td>\n",
       "      <td>Onyze capta 1,2 millones de euros</td>\n",
       "      <td>https://www.expansion.com/expansion-empleo/emp...</td>\n",
       "      <td>En la operación ha participado principalmente ...</td>\n",
       "    </tr>\n",
       "    <tr>\n",
       "      <th>79</th>\n",
       "      <td>Emprendedores</td>\n",
       "      <td>Plataforma digital para compra de finca raíz s...</td>\n",
       "      <td>https://www.portafolio.co/negocios/emprendimie...</td>\n",
       "      <td>La proptech llega a Barranquilla, Bogotá, Buca...</td>\n",
       "    </tr>\n",
       "    <tr>\n",
       "      <th>310</th>\n",
       "      <td>Mipymes</td>\n",
       "      <td>LinkedIn Xray Search Will Find Your Next Hire</td>\n",
       "      <td>https://recruitingdaily.com/linkedin-xray-sear...</td>\n",
       "      <td>LinkedIn Xray Search by Recruitment Geek lets ...</td>\n",
       "    </tr>\n",
       "    <tr>\n",
       "      <th>43</th>\n",
       "      <td>Emprendedores</td>\n",
       "      <td>EMLB Asociados</td>\n",
       "      <td>https://www.emprendedores.es/guia-juridica-fis...</td>\n",
       "      <td>Creado para ofrecer un servicio integral a la ...</td>\n",
       "    </tr>\n",
       "    <tr>\n",
       "      <th>147</th>\n",
       "      <td>Emprendedores</td>\n",
       "      <td>Mariano Alonso: \"Con el virus, los franquiciad...</td>\n",
       "      <td>//www.eleconomista.es/gestion-franquicias/noti...</td>\n",
       "      <td>mundoFranquicia es algo más que una consultora...</td>\n",
       "    </tr>\n",
       "  </tbody>\n",
       "</table>\n",
       "</div>"
      ],
      "text/plain": [
       "         Comunidad                                            Titulos  \\\n",
       "102  Emprendedores                  Onyze capta 1,2 millones de euros   \n",
       "79   Emprendedores  Plataforma digital para compra de finca raíz s...   \n",
       "310        Mipymes      LinkedIn Xray Search Will Find Your Next Hire   \n",
       "43   Emprendedores                                     EMLB Asociados   \n",
       "147  Emprendedores  Mariano Alonso: \"Con el virus, los franquiciad...   \n",
       "\n",
       "                                                 Links  \\\n",
       "102  https://www.expansion.com/expansion-empleo/emp...   \n",
       "79   https://www.portafolio.co/negocios/emprendimie...   \n",
       "310  https://recruitingdaily.com/linkedin-xray-sear...   \n",
       "43   https://www.emprendedores.es/guia-juridica-fis...   \n",
       "147  //www.eleconomista.es/gestion-franquicias/noti...   \n",
       "\n",
       "                                         Descripciones  \n",
       "102  En la operación ha participado principalmente ...  \n",
       "79   La proptech llega a Barranquilla, Bogotá, Buca...  \n",
       "310  LinkedIn Xray Search by Recruitment Geek lets ...  \n",
       "43   Creado para ofrecer un servicio integral a la ...  \n",
       "147  mundoFranquicia es algo más que una consultora...  "
      ]
     },
     "execution_count": 22,
     "metadata": {},
     "output_type": "execute_result"
    }
   ],
   "source": [
    "sample\n",
    "    "
   ]
  },
  {
   "cell_type": "code",
   "execution_count": 23,
   "id": "ed47a0b7",
   "metadata": {},
   "outputs": [
    {
     "data": {
      "text/plain": [
       "'//www.eleconomista.es/gestion-franquicias/noticias/11652763/03/22/Mariano-Alonso-Con-el-virus-los-franquiciados-se-han-reinventado-para-adaptarse-a-las-exigencias-del-mercado.html'"
      ]
     },
     "execution_count": 23,
     "metadata": {},
     "output_type": "execute_result"
    }
   ],
   "source": [
    "list(sample['Links'])[4]"
   ]
  },
  {
   "cell_type": "code",
   "execution_count": 1,
   "id": "bb6d530e",
   "metadata": {},
   "outputs": [],
   "source": [
    "message = \"a continuación te hago el envío de cinco noticias que te podrían interesar\".encode(\"UTF-8\")"
   ]
  },
  {
   "cell_type": "code",
   "execution_count": 48,
   "id": "e425e977",
   "metadata": {},
   "outputs": [
    {
     "data": {
      "text/plain": [
       "b'a continuaci\\xc3\\xb3n te hago el env\\xc3\\xado de cinco noticias que te podr\\xc3\\xadan interesar'"
      ]
     },
     "execution_count": 48,
     "metadata": {},
     "output_type": "execute_result"
    }
   ],
   "source": [
    "message"
   ]
  },
  {
   "cell_type": "code",
   "execution_count": 29,
   "id": "e5607393",
   "metadata": {},
   "outputs": [],
   "source": [
    "message = f'''Holi, newwws: \\n\n",
    "            1) {list(sample['Titulos'])[0]} : {list(sample['Descripciones'])[0]} \\n\n",
    "            {list(sample['Links'])[0]} \\n\n",
    "            2) {list(sample['Titulos'])[1]} : {list(sample['Descripciones'])[1]} \\n\n",
    "            {list(sample['Links'])[1]} \\n\n",
    "            3) {list(sample['Titulos'])[2]} : {list(sample['Descripciones'])[2]} \\n\n",
    "            {list(sample['Links'])[2]} \\n\n",
    "            4) {list(sample['Titulos'])[3]} : {list(sample['Descripciones'])[3]} \\n\n",
    "            {list(sample['Links'])[3]} \\n\n",
    "            5) {list(sample['Titulos'])[4]} : {list(sample['Descripciones'])[4]} \\n\n",
    "            {list(sample['Links'])[4]} '''.encode()"
   ]
  },
  {
   "cell_type": "code",
   "execution_count": 21,
   "id": "f3798235",
   "metadata": {},
   "outputs": [
    {
     "ename": "SyntaxError",
     "evalue": "f-string: unmatched '[' (Temp/ipykernel_24672/75631472.py, line 3)",
     "output_type": "error",
     "traceback": [
      "\u001b[1;36m  File \u001b[1;32m\"C:\\Users\\CGALEANO\\AppData\\Local\\Temp/ipykernel_24672/75631472.py\"\u001b[1;36m, line \u001b[1;32m3\u001b[0m\n\u001b[1;33m    message = f'Hola pana banana, a continuación te hago el envío de cinco noticias que te podrían interesar: \\n 1) {list(sample['Titulos'])[0]}: {list(sample['Descripciones'])[0]} \\n  {list(sample['Links'])[0]} \\n  2) {list(sample['Titulos'])[1]}: {list(sample['Descripciones'])[1]} \\n {list(sample['Links'])[1]} \\n 3) {list(sample['Titulos'])[2]}: {list(sample['Descripciones'])[2]} \\n {list(sample['Links'])[2]} \\n 4) {list(sample['Titulos'])[3]}: {list(sample['Descripciones'])[3]} \\n {list(sample['Links'])[3]} \\n 5) {list(sample['Titulos'])[4]}: {list(sample['Descripciones'])[4]} \\n {list(sample['Links'])[4]}'\u001b[0m\n\u001b[1;37m                                                                                                                                  ^\u001b[0m\n\u001b[1;31mSyntaxError\u001b[0m\u001b[1;31m:\u001b[0m f-string: unmatched '['\n"
     ]
    }
   ],
   "source": [
    "# https://stackoverflow.com/questions/69493308/python-pywhatkit-emoticon\n",
    "\n",
    "message = f'Hola pana banana, a continuación te hago el envío de cinco noticias que te podrían interesar: \\n 1) {list(sample['Titulos'])[0]}: {list(sample['Descripciones'])[0]} \\n  {list(sample['Links'])[0]} \\n  2) {list(sample['Titulos'])[1]}: {list(sample['Descripciones'])[1]} \\n {list(sample['Links'])[1]} \\n 3) {list(sample['Titulos'])[2]}: {list(sample['Descripciones'])[2]} \\n {list(sample['Links'])[2]} \\n 4) {list(sample['Titulos'])[3]}: {list(sample['Descripciones'])[3]} \\n {list(sample['Links'])[3]} \\n 5) {list(sample['Titulos'])[4]}: {list(sample['Descripciones'])[4]} \\n {list(sample['Links'])[4]}'"
   ]
  },
  {
   "cell_type": "code",
   "execution_count": 26,
   "id": "88667be8",
   "metadata": {},
   "outputs": [
    {
     "name": "stdout",
     "output_type": "stream",
     "text": [
      "b'Holi, newwws: \\n\\n            1) Onyze capta 1,2 millones de euros : En la operaci\\xc3\\xb3n ha participado principalmente The Valley Venture, convertido en el principal inversor de la start up, que quiere iniciar su expansi\\xc3\\xb3n internacional. \\n\\n            https://www.expansion.com/expansion-empleo/emprendedores/2022/04/19/625e926e468aeb395a8b45a3.html \\n\\n            2) Plataforma digital para compra de finca ra\\xc3\\xadz se expande en Colombia : La proptech llega a Barranquilla, Bogot\\xc3\\xa1, Bucaramanga, Cali, Ibagu\\xc3\\xa9, Medell\\xc3\\xadn, Manizales, Armenia y Pereira. \\n\\n            https://www.portafolio.co/negocios/emprendimiento/plataforma-digital-para-compra-de-finca-raiz-se-expande-en-colombia-561281 \\n\\n            3) LinkedIn Xray Search Will Find Your Next Hire : LinkedIn Xray Search by Recruitment Geek lets you dramatically speed up your LinkedIn headhunting.\\xc2\\xa0 You can easily sift through this database of LinkedIn profiles by combining a host of candidate\\xe2\\x80\\xa6 Read more  \\n\\n            https://recruitingdaily.com/linkedin-xray-search-tool-by-recruitment-geek/ \\n\\n            4) EMLB Asociados : Creado para ofrecer un servicio integral a la Pyme, este despacho se adapta a las necesidades de cada cliente. \\n\\n            https://www.emprendedores.es/guia-juridica-fiscal/emlb-asociados/ \\n\\n            5) Mariano Alonso: \"Con el virus, los franquiciados se han reinventado para adaptarse a las exigencias del mercado\" : mundoFranquicia es algo m\\xc3\\xa1s que una consultora. Ellos prefieren definirse como un departamento externo e integral de franquicias integrado en el organigrama de las empresas de nuestros clientes. Su vocaci\\xc3\\xb3n es la de... \\n\\n            //www.eleconomista.es/gestion-franquicias/noticias/11652763/03/22/Mariano-Alonso-Con-el-virus-los-franquiciados-se-han-reinventado-para-adaptarse-a-las-exigencias-del-mercado.html '\n"
     ]
    }
   ],
   "source": [
    "print(message.encode('utf-8', 'ignore'))"
   ]
  },
  {
   "cell_type": "code",
   "execution_count": 23,
   "id": "4b21376f",
   "metadata": {},
   "outputs": [
    {
     "name": "stdout",
     "output_type": "stream",
     "text": [
      "b'Hola pana banana  , a continuacin te hago el envo de cinco noticias que te podran interesar  : \\n'\n"
     ]
    }
   ],
   "source": [
    "print(message.encode('ascii', 'ignore'))"
   ]
  },
  {
   "cell_type": "markdown",
   "id": "f07f6a7e",
   "metadata": {},
   "source": [
    "# Selenium"
   ]
  },
  {
   "cell_type": "code",
   "execution_count": 7,
   "id": "1984ac62",
   "metadata": {},
   "outputs": [],
   "source": [
    "from selenium import webdriver\n",
    "from selenium.webdriver.common.by import By\n",
    "from selenium.webdriver.chrome.service import Service\n",
    "from webdriver_manager.chrome import ChromeDriverManager\n",
    "from selenium.webdriver.support.ui import WebDriverWait\n",
    "from selenium.webdriver.support import expected_conditions as EC\n",
    "from selenium.webdriver.common.keys import Keys\n",
    "from selenium.webdriver.chrome.options import Options\n",
    "import pyperclip\n",
    "import time\n",
    "\n",
    "import os\n",
    "import login\n",
    "import pandas as pd\n",
    "import itertools"
   ]
  },
  {
   "cell_type": "code",
   "execution_count": 35,
   "id": "fc9dd7bf",
   "metadata": {},
   "outputs": [
    {
     "data": {
      "text/html": [
       "<div>\n",
       "<style scoped>\n",
       "    .dataframe tbody tr th:only-of-type {\n",
       "        vertical-align: middle;\n",
       "    }\n",
       "\n",
       "    .dataframe tbody tr th {\n",
       "        vertical-align: top;\n",
       "    }\n",
       "\n",
       "    .dataframe thead th {\n",
       "        text-align: right;\n",
       "    }\n",
       "</style>\n",
       "<table border=\"1\" class=\"dataframe\">\n",
       "  <thead>\n",
       "    <tr style=\"text-align: right;\">\n",
       "      <th></th>\n",
       "      <th>Comunidad</th>\n",
       "      <th>Titulos</th>\n",
       "      <th>Links</th>\n",
       "      <th>Descripciones</th>\n",
       "    </tr>\n",
       "  </thead>\n",
       "  <tbody>\n",
       "    <tr>\n",
       "      <th>32</th>\n",
       "      <td>Emprendedores</td>\n",
       "      <td>¿Pueden los autónomos deducirse el gasto de te...</td>\n",
       "      <td>https://www.emprendedores.es/guia-juridica-fis...</td>\n",
       "      <td>La deducción del gasto de teléfono móvil/fijo...</td>\n",
       "    </tr>\n",
       "    <tr>\n",
       "      <th>260</th>\n",
       "      <td>Mipymes</td>\n",
       "      <td>Webbtree Free vs Paid: A Proper Sourcing Tool ...</td>\n",
       "      <td>https://recruitingdaily.com/webbtree-free-vs-p...</td>\n",
       "      <td>Webbtree is quite a unique find. There seems t...</td>\n",
       "    </tr>\n",
       "    <tr>\n",
       "      <th>310</th>\n",
       "      <td>Mipymes</td>\n",
       "      <td>LinkedIn Xray Search Will Find Your Next Hire</td>\n",
       "      <td>https://recruitingdaily.com/linkedin-xray-sear...</td>\n",
       "      <td>LinkedIn Xray Search by Recruitment Geek lets ...</td>\n",
       "    </tr>\n",
       "    <tr>\n",
       "      <th>90</th>\n",
       "      <td>Emprendedores</td>\n",
       "      <td>Lentesplus.com adquirió empresa brasileña Newl...</td>\n",
       "      <td>https://www.portafolio.co/negocios/emprendimie...</td>\n",
       "      <td>La compra se realizó con capital obtenido en r...</td>\n",
       "    </tr>\n",
       "    <tr>\n",
       "      <th>315</th>\n",
       "      <td>Mipymes</td>\n",
       "      <td>The Need for Speed: Becoming Agile and Flexibl...</td>\n",
       "      <td>https://recruitingdaily.com/becoming-agile-and...</td>\n",
       "      <td>Becoming Agile and Flexible   The ‘new normal’...</td>\n",
       "    </tr>\n",
       "  </tbody>\n",
       "</table>\n",
       "</div>"
      ],
      "text/plain": [
       "         Comunidad                                            Titulos  \\\n",
       "32   Emprendedores  ¿Pueden los autónomos deducirse el gasto de te...   \n",
       "260        Mipymes  Webbtree Free vs Paid: A Proper Sourcing Tool ...   \n",
       "310        Mipymes      LinkedIn Xray Search Will Find Your Next Hire   \n",
       "90   Emprendedores  Lentesplus.com adquirió empresa brasileña Newl...   \n",
       "315        Mipymes  The Need for Speed: Becoming Agile and Flexibl...   \n",
       "\n",
       "                                                 Links  \\\n",
       "32   https://www.emprendedores.es/guia-juridica-fis...   \n",
       "260  https://recruitingdaily.com/webbtree-free-vs-p...   \n",
       "310  https://recruitingdaily.com/linkedin-xray-sear...   \n",
       "90   https://www.portafolio.co/negocios/emprendimie...   \n",
       "315  https://recruitingdaily.com/becoming-agile-and...   \n",
       "\n",
       "                                         Descripciones  \n",
       "32    La deducción del gasto de teléfono móvil/fijo...  \n",
       "260  Webbtree is quite a unique find. There seems t...  \n",
       "310  LinkedIn Xray Search by Recruitment Geek lets ...  \n",
       "90   La compra se realizó con capital obtenido en r...  \n",
       "315  Becoming Agile and Flexible   The ‘new normal’...  "
      ]
     },
     "execution_count": 35,
     "metadata": {},
     "output_type": "execute_result"
    }
   ],
   "source": [
    "df = pd.read_excel('News_whatsapp.xlsx')\n",
    "\n",
    "sample = df.sample(5)\n",
    "sample"
   ]
  },
  {
   "cell_type": "code",
   "execution_count": 53,
   "id": "d2a4d496",
   "metadata": {},
   "outputs": [],
   "source": [
    "msg = f'''¡Hola! \\U0001F44B, a continuación te mostramos cinco noticias que te podrían interesar: \\n\n",
    "        1) {list(sample['Titulos'])[0]} : {list(sample['Descripciones'])[0]} \\n\n",
    "        {list(sample['Links'])[0]} \\n\n",
    "        2) {list(sample['Titulos'])[1]} : {list(sample['Descripciones'])[1]} \\n\n",
    "        {list(sample['Links'])[1]} \\n\n",
    "        3) {list(sample['Titulos'])[2]} : {list(sample['Descripciones'])[2]} \\n\n",
    "        {list(sample['Links'])[2]} \\n\n",
    "        4) {list(sample['Titulos'])[3]} : {list(sample['Descripciones'])[3]} \\n\n",
    "        {list(sample['Links'])[3]} \\n\n",
    "        5) {list(sample['Titulos'])[4]} : {list(sample['Descripciones'])[4]} \\n\n",
    "        {list(sample['Links'])[4]}\\n\n",
    "        Ten un bonito día, chauuu. \\U0001F4A9\n",
    "        '''"
   ]
  },
  {
   "cell_type": "code",
   "execution_count": 61,
   "id": "6bab4b00",
   "metadata": {},
   "outputs": [
    {
     "name": "stdout",
     "output_type": "stream",
     "text": [
      "Emprendedores\n",
      "The soroilos\n",
      "Empresa y discapacidad\n",
      "Brr\n"
     ]
    }
   ],
   "source": [
    "# Python program to iterate\n",
    "# over 3 lists using zip function\n",
    "  \n",
    "import itertools \n",
    "  \n",
    "communities = list(df['Comunidad'].unique())\n",
    "  \n",
    "# iterates over 3 lists and executes \n",
    "# 2 times as len(value)= 2 which is the\n",
    "# minimum among all the three \n",
    "#for (a, b, c) in zip(communities):\n",
    "for (com, group) in zip(communities, groups):\n",
    "    print(com)\n",
    "    print(group)\n",
    "    "
   ]
  },
  {
   "cell_type": "code",
   "execution_count": 1,
   "id": "ba108531",
   "metadata": {},
   "outputs": [
    {
     "data": {
      "text/html": [
       "<div>\n",
       "<style scoped>\n",
       "    .dataframe tbody tr th:only-of-type {\n",
       "        vertical-align: middle;\n",
       "    }\n",
       "\n",
       "    .dataframe tbody tr th {\n",
       "        vertical-align: top;\n",
       "    }\n",
       "\n",
       "    .dataframe thead th {\n",
       "        text-align: right;\n",
       "    }\n",
       "</style>\n",
       "<table border=\"1\" class=\"dataframe\">\n",
       "  <thead>\n",
       "    <tr style=\"text-align: right;\">\n",
       "      <th></th>\n",
       "      <th>Comunidad</th>\n",
       "      <th>Titulos</th>\n",
       "      <th>Links</th>\n",
       "      <th>Descripciones</th>\n",
       "    </tr>\n",
       "  </thead>\n",
       "  <tbody>\n",
       "    <tr>\n",
       "      <th>0</th>\n",
       "      <td>Emprendedores</td>\n",
       "      <td>Iniciativa Fiscal</td>\n",
       "      <td>https://www.emprendedores.es/sin-categoria/ini...</td>\n",
       "      <td>Iniciativa Fiscal se constituye como sociedad ...</td>\n",
       "    </tr>\n",
       "    <tr>\n",
       "      <th>1</th>\n",
       "      <td>Emprendedores</td>\n",
       "      <td>El nuevo impuesto de plusvalía en diez puntos ...</td>\n",
       "      <td>https://www.emprendedores.es/guia-fiscal-jurid...</td>\n",
       "      <td>Después de que el Tribunal Constitucional anul...</td>\n",
       "    </tr>\n",
       "    <tr>\n",
       "      <th>2</th>\n",
       "      <td>Emprendedores</td>\n",
       "      <td>Puesta a punto para estar al día en la gestión...</td>\n",
       "      <td>https://www.emprendedores.es/guia-juridica-fis...</td>\n",
       "      <td>Tanto el 2021 como el 2022 son años extraordin...</td>\n",
       "    </tr>\n",
       "    <tr>\n",
       "      <th>3</th>\n",
       "      <td>Emprendedores</td>\n",
       "      <td>El nuevo valor de referencia para bienes inmue...</td>\n",
       "      <td>https://www.emprendedores.es/guia-fiscal-jurid...</td>\n",
       "      <td>Una novedad introducida por la Ley contra el f...</td>\n",
       "    </tr>\n",
       "    <tr>\n",
       "      <th>4</th>\n",
       "      <td>Emprendedores</td>\n",
       "      <td>Cómo respetar la protección de datos durante l...</td>\n",
       "      <td>https://www.emprendedores.es/ayudas/como-respe...</td>\n",
       "      <td>El Reglamento General de Protección de Datos (...</td>\n",
       "    </tr>\n",
       "    <tr>\n",
       "      <th>...</th>\n",
       "      <td>...</td>\n",
       "      <td>...</td>\n",
       "      <td>...</td>\n",
       "      <td>...</td>\n",
       "    </tr>\n",
       "    <tr>\n",
       "      <th>374</th>\n",
       "      <td>Mipymes</td>\n",
       "      <td>Emprendimiento colombiano de cannabis lanza su...</td>\n",
       "      <td>https://www.portafolio.co/innovacion/greenlab-...</td>\n",
       "      <td>Se trata de Greenlab, que pondrá a la venta 5....</td>\n",
       "    </tr>\n",
       "    <tr>\n",
       "      <th>375</th>\n",
       "      <td>Mipymes</td>\n",
       "      <td>¿Está América Latina preparada para el interne...</td>\n",
       "      <td>https://www.portafolio.co/innovacion/esta-amer...</td>\n",
       "      <td>La penetración del IoT requiere de infraestruc...</td>\n",
       "    </tr>\n",
       "    <tr>\n",
       "      <th>376</th>\n",
       "      <td>Mipymes</td>\n",
       "      <td>Sector 'proptech' en Colombia captó más de US$...</td>\n",
       "      <td>https://www.portafolio.co/innovacion/sector-pr...</td>\n",
       "      <td>Durante el 2022 se espera aumentar de manera r...</td>\n",
       "    </tr>\n",
       "    <tr>\n",
       "      <th>377</th>\n",
       "      <td>Mipymes</td>\n",
       "      <td>Transferencias inmediatas por Transfiya aument...</td>\n",
       "      <td>https://www.portafolio.co/innovacion/transfere...</td>\n",
       "      <td>El servicio desarrollado por ACH Colombia tien...</td>\n",
       "    </tr>\n",
       "    <tr>\n",
       "      <th>378</th>\n",
       "      <td>Mipymes</td>\n",
       "      <td>WhatsApp planea mejorar la función ‘Eliminar m...</td>\n",
       "      <td>https://www.portafolio.co/innovacion/whatsapp-...</td>\n",
       "      <td>La aplicación de mensajería instantánea está t...</td>\n",
       "    </tr>\n",
       "  </tbody>\n",
       "</table>\n",
       "<p>379 rows × 4 columns</p>\n",
       "</div>"
      ],
      "text/plain": [
       "         Comunidad                                            Titulos  \\\n",
       "0    Emprendedores                                  Iniciativa Fiscal   \n",
       "1    Emprendedores  El nuevo impuesto de plusvalía en diez puntos ...   \n",
       "2    Emprendedores  Puesta a punto para estar al día en la gestión...   \n",
       "3    Emprendedores  El nuevo valor de referencia para bienes inmue...   \n",
       "4    Emprendedores  Cómo respetar la protección de datos durante l...   \n",
       "..             ...                                                ...   \n",
       "374        Mipymes  Emprendimiento colombiano de cannabis lanza su...   \n",
       "375        Mipymes  ¿Está América Latina preparada para el interne...   \n",
       "376        Mipymes  Sector 'proptech' en Colombia captó más de US$...   \n",
       "377        Mipymes  Transferencias inmediatas por Transfiya aument...   \n",
       "378        Mipymes  WhatsApp planea mejorar la función ‘Eliminar m...   \n",
       "\n",
       "                                                 Links  \\\n",
       "0    https://www.emprendedores.es/sin-categoria/ini...   \n",
       "1    https://www.emprendedores.es/guia-fiscal-jurid...   \n",
       "2    https://www.emprendedores.es/guia-juridica-fis...   \n",
       "3    https://www.emprendedores.es/guia-fiscal-jurid...   \n",
       "4    https://www.emprendedores.es/ayudas/como-respe...   \n",
       "..                                                 ...   \n",
       "374  https://www.portafolio.co/innovacion/greenlab-...   \n",
       "375  https://www.portafolio.co/innovacion/esta-amer...   \n",
       "376  https://www.portafolio.co/innovacion/sector-pr...   \n",
       "377  https://www.portafolio.co/innovacion/transfere...   \n",
       "378  https://www.portafolio.co/innovacion/whatsapp-...   \n",
       "\n",
       "                                         Descripciones  \n",
       "0    Iniciativa Fiscal se constituye como sociedad ...  \n",
       "1    Después de que el Tribunal Constitucional anul...  \n",
       "2    Tanto el 2021 como el 2022 son años extraordin...  \n",
       "3    Una novedad introducida por la Ley contra el f...  \n",
       "4    El Reglamento General de Protección de Datos (...  \n",
       "..                                                 ...  \n",
       "374  Se trata de Greenlab, que pondrá a la venta 5....  \n",
       "375  La penetración del IoT requiere de infraestruc...  \n",
       "376  Durante el 2022 se espera aumentar de manera r...  \n",
       "377  El servicio desarrollado por ACH Colombia tien...  \n",
       "378  La aplicación de mensajería instantánea está t...  \n",
       "\n",
       "[379 rows x 4 columns]"
      ]
     },
     "execution_count": 1,
     "metadata": {},
     "output_type": "execute_result"
    }
   ],
   "source": [
    "import pandas as pd\n",
    "df = pd.read_pickle('News_whatsapp.pkl')\n",
    "df"
   ]
  },
  {
   "cell_type": "code",
   "execution_count": 6,
   "id": "c7f5e019",
   "metadata": {},
   "outputs": [
    {
     "data": {
      "text/plain": [
       "Int64Index([182, 199, 33, 355, 325], dtype='int64')"
      ]
     },
     "execution_count": 6,
     "metadata": {},
     "output_type": "execute_result"
    }
   ],
   "source": [
    "test = df.sample(5)\n",
    "\n",
    "test.index"
   ]
  },
  {
   "cell_type": "code",
   "execution_count": 8,
   "id": "614a8c98",
   "metadata": {},
   "outputs": [
    {
     "name": "stderr",
     "output_type": "stream",
     "text": [
      "C:\\Users\\camil\\AppData\\Local\\Temp/ipykernel_520/2697175569.py:11: DeprecationWarning: executable_path has been deprecated, please pass in a Service object\n",
      "  driver = webdriver.Chrome(executable_path='C:/Users/camil/Documents/TalenPitch/chromedriver.exe', options=options)\n"
     ]
    }
   ],
   "source": [
    "\n",
    "#driver = webdriver.Chrome(service=Service(ChromeDriverManager().install()))\n",
    "#driver = webdriver.Chrome(executable_path='C:/Users/camil/Documents/TalenPitch/chromedriver.exe')\n",
    "#options = Options()\n",
    "#options.add_argument(\"--user-data-dir=C:/Users/camil/OneDrive/Escritorio/Automation/UserData\")\n",
    "\n",
    "#driver.maximize_window()\n",
    "\n",
    "#driver.get('https://web.whatsapp.com/')\n",
    "\n",
    "options = login.options\n",
    "driver = webdriver.Chrome(executable_path='C:/Users/camil/Documents/TalenPitch/chromedriver.exe', options=options)\n",
    "driver.maximize_window()\n",
    "driver.get(\"https://web.whatsapp.com/\")\n",
    "\n",
    "df = pd.read_pickle('News_whatsapp.pkl')\n",
    "\n",
    "with open('groups.txt', 'r', encoding='utf8') as f:\n",
    "    groups = [group.strip() for group in f.readlines()]\n",
    "    \n",
    "#communities = list(df['Comunidad'].unique())\n",
    "\n",
    "\n",
    "sample = df.sample(5)\n",
    "    \n",
    "msg = f'''¡Hola! \\U0001F44B, a continuación te mostramos cinco noticias que te podrían interesar: \\n\n",
    "    1) {list(sample['Titulos'])[0]} : {list(sample['Descripciones'])[0]} \\n\n",
    "    {list(sample['Links'])[0]} \\n\n",
    "    2) {list(sample['Titulos'])[1]} : {list(sample['Descripciones'])[1]} \\n\n",
    "    {list(sample['Links'])[1]} \\n\n",
    "    3) {list(sample['Titulos'])[2]} : {list(sample['Descripciones'])[2]} \\n\n",
    "    {list(sample['Links'])[2]} \\n\n",
    "    4) {list(sample['Titulos'])[3]} : {list(sample['Descripciones'])[3]} \\n\n",
    "    {list(sample['Links'])[3]} \\n\n",
    "    5) {list(sample['Titulos'])[4]} : {list(sample['Descripciones'])[4]} \\n\n",
    "    {list(sample['Links'])[4]}\\n\n",
    "    Ten un bonito día, chauuu. \\U0001F4A9\n",
    "    '''\n",
    "\n",
    "df.drop(sample.index, inplace=True)\n",
    "df.to_pickle(\"./News_whatsapp.pkl\")\n",
    "\n",
    "for group in groups:\n",
    "    \n",
    "    search_xpath = '//div[@contenteditable=\"true\"][@data-tab=\"3\"]'\n",
    "\n",
    "    search_box = WebDriverWait(driver, 500).until(\n",
    "        EC.presence_of_element_located((By.XPATH, search_xpath))\n",
    "    )\n",
    "\n",
    "    search_box.clear()\n",
    "\n",
    "    time.sleep(1)\n",
    "\n",
    "    pyperclip.copy(group)\n",
    "\n",
    "    search_box.send_keys(Keys.SHIFT, Keys.INSERT)  # Keys.CONTROL + \"v\"\n",
    "\n",
    "    time.sleep(2)\n",
    "\n",
    "    group_xpath = f'//span[@title=\"{group}\"]'\n",
    "    group_title = driver.find_element(By.XPATH, group_xpath)\n",
    "\n",
    "    group_title.click()\n",
    "\n",
    "    time.sleep(1)\n",
    "\n",
    "    input_xpath = '//div[@contenteditable=\"true\"][@data-tab=\"10\"]'\n",
    "    input_box = driver.find_element(By.XPATH, input_xpath)\n",
    "\n",
    "    pyperclip.copy(msg)\n",
    "    input_box.send_keys(Keys.SHIFT, Keys.INSERT)  # Keys.CONTROL + \"v\"\n",
    "    input_box.send_keys(Keys.ENTER)\n",
    "\n",
    "    time.sleep(2)\n",
    "    \n",
    "time.sleep(5)\n",
    "driver.close()\n"
   ]
  },
  {
   "cell_type": "code",
   "execution_count": 9,
   "id": "1f4c66d6",
   "metadata": {},
   "outputs": [
    {
     "data": {
      "text/html": [
       "<div>\n",
       "<style scoped>\n",
       "    .dataframe tbody tr th:only-of-type {\n",
       "        vertical-align: middle;\n",
       "    }\n",
       "\n",
       "    .dataframe tbody tr th {\n",
       "        vertical-align: top;\n",
       "    }\n",
       "\n",
       "    .dataframe thead th {\n",
       "        text-align: right;\n",
       "    }\n",
       "</style>\n",
       "<table border=\"1\" class=\"dataframe\">\n",
       "  <thead>\n",
       "    <tr style=\"text-align: right;\">\n",
       "      <th></th>\n",
       "      <th>Comunidad</th>\n",
       "      <th>Titulos</th>\n",
       "      <th>Links</th>\n",
       "      <th>Descripciones</th>\n",
       "    </tr>\n",
       "  </thead>\n",
       "  <tbody>\n",
       "    <tr>\n",
       "      <th>0</th>\n",
       "      <td>Emprendedores</td>\n",
       "      <td>Iniciativa Fiscal</td>\n",
       "      <td>https://www.emprendedores.es/sin-categoria/ini...</td>\n",
       "      <td>Iniciativa Fiscal se constituye como sociedad ...</td>\n",
       "    </tr>\n",
       "    <tr>\n",
       "      <th>1</th>\n",
       "      <td>Emprendedores</td>\n",
       "      <td>El nuevo impuesto de plusvalía en diez puntos ...</td>\n",
       "      <td>https://www.emprendedores.es/guia-fiscal-jurid...</td>\n",
       "      <td>Después de que el Tribunal Constitucional anul...</td>\n",
       "    </tr>\n",
       "    <tr>\n",
       "      <th>2</th>\n",
       "      <td>Emprendedores</td>\n",
       "      <td>Puesta a punto para estar al día en la gestión...</td>\n",
       "      <td>https://www.emprendedores.es/guia-juridica-fis...</td>\n",
       "      <td>Tanto el 2021 como el 2022 son años extraordin...</td>\n",
       "    </tr>\n",
       "    <tr>\n",
       "      <th>3</th>\n",
       "      <td>Emprendedores</td>\n",
       "      <td>El nuevo valor de referencia para bienes inmue...</td>\n",
       "      <td>https://www.emprendedores.es/guia-fiscal-jurid...</td>\n",
       "      <td>Una novedad introducida por la Ley contra el f...</td>\n",
       "    </tr>\n",
       "    <tr>\n",
       "      <th>4</th>\n",
       "      <td>Emprendedores</td>\n",
       "      <td>Cómo respetar la protección de datos durante l...</td>\n",
       "      <td>https://www.emprendedores.es/ayudas/como-respe...</td>\n",
       "      <td>El Reglamento General de Protección de Datos (...</td>\n",
       "    </tr>\n",
       "    <tr>\n",
       "      <th>...</th>\n",
       "      <td>...</td>\n",
       "      <td>...</td>\n",
       "      <td>...</td>\n",
       "      <td>...</td>\n",
       "    </tr>\n",
       "    <tr>\n",
       "      <th>374</th>\n",
       "      <td>Mipymes</td>\n",
       "      <td>Emprendimiento colombiano de cannabis lanza su...</td>\n",
       "      <td>https://www.portafolio.co/innovacion/greenlab-...</td>\n",
       "      <td>Se trata de Greenlab, que pondrá a la venta 5....</td>\n",
       "    </tr>\n",
       "    <tr>\n",
       "      <th>375</th>\n",
       "      <td>Mipymes</td>\n",
       "      <td>¿Está América Latina preparada para el interne...</td>\n",
       "      <td>https://www.portafolio.co/innovacion/esta-amer...</td>\n",
       "      <td>La penetración del IoT requiere de infraestruc...</td>\n",
       "    </tr>\n",
       "    <tr>\n",
       "      <th>376</th>\n",
       "      <td>Mipymes</td>\n",
       "      <td>Sector 'proptech' en Colombia captó más de US$...</td>\n",
       "      <td>https://www.portafolio.co/innovacion/sector-pr...</td>\n",
       "      <td>Durante el 2022 se espera aumentar de manera r...</td>\n",
       "    </tr>\n",
       "    <tr>\n",
       "      <th>377</th>\n",
       "      <td>Mipymes</td>\n",
       "      <td>Transferencias inmediatas por Transfiya aument...</td>\n",
       "      <td>https://www.portafolio.co/innovacion/transfere...</td>\n",
       "      <td>El servicio desarrollado por ACH Colombia tien...</td>\n",
       "    </tr>\n",
       "    <tr>\n",
       "      <th>378</th>\n",
       "      <td>Mipymes</td>\n",
       "      <td>WhatsApp planea mejorar la función ‘Eliminar m...</td>\n",
       "      <td>https://www.portafolio.co/innovacion/whatsapp-...</td>\n",
       "      <td>La aplicación de mensajería instantánea está t...</td>\n",
       "    </tr>\n",
       "  </tbody>\n",
       "</table>\n",
       "<p>374 rows × 4 columns</p>\n",
       "</div>"
      ],
      "text/plain": [
       "         Comunidad                                            Titulos  \\\n",
       "0    Emprendedores                                  Iniciativa Fiscal   \n",
       "1    Emprendedores  El nuevo impuesto de plusvalía en diez puntos ...   \n",
       "2    Emprendedores  Puesta a punto para estar al día en la gestión...   \n",
       "3    Emprendedores  El nuevo valor de referencia para bienes inmue...   \n",
       "4    Emprendedores  Cómo respetar la protección de datos durante l...   \n",
       "..             ...                                                ...   \n",
       "374        Mipymes  Emprendimiento colombiano de cannabis lanza su...   \n",
       "375        Mipymes  ¿Está América Latina preparada para el interne...   \n",
       "376        Mipymes  Sector 'proptech' en Colombia captó más de US$...   \n",
       "377        Mipymes  Transferencias inmediatas por Transfiya aument...   \n",
       "378        Mipymes  WhatsApp planea mejorar la función ‘Eliminar m...   \n",
       "\n",
       "                                                 Links  \\\n",
       "0    https://www.emprendedores.es/sin-categoria/ini...   \n",
       "1    https://www.emprendedores.es/guia-fiscal-jurid...   \n",
       "2    https://www.emprendedores.es/guia-juridica-fis...   \n",
       "3    https://www.emprendedores.es/guia-fiscal-jurid...   \n",
       "4    https://www.emprendedores.es/ayudas/como-respe...   \n",
       "..                                                 ...   \n",
       "374  https://www.portafolio.co/innovacion/greenlab-...   \n",
       "375  https://www.portafolio.co/innovacion/esta-amer...   \n",
       "376  https://www.portafolio.co/innovacion/sector-pr...   \n",
       "377  https://www.portafolio.co/innovacion/transfere...   \n",
       "378  https://www.portafolio.co/innovacion/whatsapp-...   \n",
       "\n",
       "                                         Descripciones  \n",
       "0    Iniciativa Fiscal se constituye como sociedad ...  \n",
       "1    Después de que el Tribunal Constitucional anul...  \n",
       "2    Tanto el 2021 como el 2022 son años extraordin...  \n",
       "3    Una novedad introducida por la Ley contra el f...  \n",
       "4    El Reglamento General de Protección de Datos (...  \n",
       "..                                                 ...  \n",
       "374  Se trata de Greenlab, que pondrá a la venta 5....  \n",
       "375  La penetración del IoT requiere de infraestruc...  \n",
       "376  Durante el 2022 se espera aumentar de manera r...  \n",
       "377  El servicio desarrollado por ACH Colombia tien...  \n",
       "378  La aplicación de mensajería instantánea está t...  \n",
       "\n",
       "[374 rows x 4 columns]"
      ]
     },
     "execution_count": 9,
     "metadata": {},
     "output_type": "execute_result"
    }
   ],
   "source": [
    "df = pd.read_pickle('News_whatsapp.pkl')\n",
    "df"
   ]
  },
  {
   "cell_type": "code",
   "execution_count": null,
   "id": "0dd06523",
   "metadata": {},
   "outputs": [
    {
     "name": "stderr",
     "output_type": "stream",
     "text": [
      "D:\\Users\\camil\\Anaconda3\\envs\\Stu\\lib\\site-packages\\apscheduler\\util.py:436: PytzUsageWarning: The localize method is no longer necessary, as this time zone supports the fold attribute (PEP 495). For more details on migrating to a PEP 495-compliant implementation, see https://pytz-deprecation-shim.readthedocs.io/en/latest/migration.html\n",
      "  return tzinfo.localize(dt)\n"
     ]
    },
    {
     "name": "stdout",
     "output_type": "stream",
     "text": [
      "Hello World\n"
     ]
    }
   ],
   "source": [
    "from apscheduler.schedulers.blocking import BlockingScheduler\n",
    "\n",
    "def job_function():\n",
    "    print(\"Hello World\")\n",
    "\n",
    "sched = BlockingScheduler()\n",
    "\n",
    "# Runs from Monday to Friday at 5:30 (am) until\n",
    "sched.add_job(job_function, 'cron', day_of_week='mon-fri', hour=8, minute=38)\n",
    "sched.start()\n",
    "\n",
    "sched.shutdown()"
   ]
  },
  {
   "cell_type": "code",
   "execution_count": 14,
   "id": "925f0852",
   "metadata": {},
   "outputs": [
    {
     "data": {
      "text/plain": [
       "4"
      ]
     },
     "execution_count": 14,
     "metadata": {},
     "output_type": "execute_result"
    }
   ],
   "source": [
    "import datetime\n",
    "datetime.datetime.now().month"
   ]
  },
  {
   "cell_type": "code",
   "execution_count": 4,
   "id": "2d911f0c",
   "metadata": {},
   "outputs": [],
   "source": [
    "def job_function():\n",
    "    print(\"Hello World\")"
   ]
  },
  {
   "cell_type": "code",
   "execution_count": 17,
   "id": "4d3e9cf1",
   "metadata": {},
   "outputs": [
    {
     "name": "stdout",
     "output_type": "stream",
     "text": [
      "Hello World\n"
     ]
    }
   ],
   "source": [
    "if (datetime.datetime.now().weekday() < 5 and datetime.datetime.now().month==4):\n",
    "    job_function()"
   ]
  },
  {
   "cell_type": "markdown",
   "id": "f3007e67",
   "metadata": {},
   "source": [
    "# Código para tres mensajes distintos según la comunidad a enviar"
   ]
  },
  {
   "cell_type": "code",
   "execution_count": null,
   "id": "24683181",
   "metadata": {},
   "outputs": [],
   "source": [
    "options = login.options\n",
    "driver = webdriver.Chrome(executable_path='C:/Users/camil/Documents/TalenPitch/chromedriver.exe', options=options)\n",
    "driver.maximize_window()\n",
    "driver.get(\"https://web.whatsapp.com/\")\n",
    "\n",
    "df = pd.read_pickle('News_whatsapp.pkl')\n",
    "\n",
    "with open('groups.txt', 'r', encoding='utf8') as f:\n",
    "    groups = [group.strip() for group in f.readlines()]\n",
    "    \n",
    "communities = list(df['Comunidad'].unique())\n",
    "\n",
    "    \n",
    "\n",
    "for com, group in zip(communities, groups):\n",
    "    \n",
    "    df_com = df[df['Comunidad'] == com]\n",
    "    \n",
    "    sample = df_com.sample(5)\n",
    "    \n",
    "    msg = f'''¡Hola! \\U0001F44B, a continuación te mostramos cinco noticias que te podrían interesar: \\n\n",
    "    1) {list(sample['Titulos'])[0]} : {list(sample['Descripciones'])[0]} \\n\n",
    "    {list(sample['Links'])[0]} \\n\n",
    "    2) {list(sample['Titulos'])[1]} : {list(sample['Descripciones'])[1]} \\n\n",
    "    {list(sample['Links'])[1]} \\n\n",
    "    3) {list(sample['Titulos'])[2]} : {list(sample['Descripciones'])[2]} \\n\n",
    "    {list(sample['Links'])[2]} \\n\n",
    "    4) {list(sample['Titulos'])[3]} : {list(sample['Descripciones'])[3]} \\n\n",
    "    {list(sample['Links'])[3]} \\n\n",
    "    5) {list(sample['Titulos'])[4]} : {list(sample['Descripciones'])[4]} \\n\n",
    "    {list(sample['Links'])[4]}\\n\n",
    "    Ten un bonito día, chauuu. \\U0001F4A9\n",
    "    '''\n",
    "    \n",
    "    df.drop(sample.index, inplace=True)\n",
    "\n",
    "    search_xpath = '//div[@contenteditable=\"true\"][@data-tab=\"3\"]'\n",
    "\n",
    "    search_box = WebDriverWait(driver, 500).until(\n",
    "        EC.presence_of_element_located((By.XPATH, search_xpath))\n",
    "    )\n",
    "\n",
    "    search_box.clear()\n",
    "\n",
    "    time.sleep(1)\n",
    "\n",
    "    pyperclip.copy(group)\n",
    "\n",
    "    search_box.send_keys(Keys.SHIFT, Keys.INSERT)  # Keys.CONTROL + \"v\"\n",
    "\n",
    "    time.sleep(2)\n",
    "\n",
    "    group_xpath = f'//span[@title=\"{group}\"]'\n",
    "    group_title = driver.find_element(By.XPATH, group_xpath)\n",
    "\n",
    "    group_title.click()\n",
    "\n",
    "    time.sleep(1)\n",
    "\n",
    "    input_xpath = '//div[@contenteditable=\"true\"][@data-tab=\"10\"]'\n",
    "    input_box = driver.find_element(By.XPATH, input_xpath)\n",
    "\n",
    "    pyperclip.copy(msg)\n",
    "    input_box.send_keys(Keys.SHIFT, Keys.INSERT)  # Keys.CONTROL + \"v\"\n",
    "    input_box.send_keys(Keys.ENTER)\n",
    "\n",
    "    time.sleep(2)\n",
    "\n",
    "df.to_pickle(\"./News_whatsapp.pkl\")\n",
    "\n",
    "time.sleep(5)\n",
    "driver.close()"
   ]
  }
 ],
 "metadata": {
  "kernelspec": {
   "display_name": "Python 3 (ipykernel)",
   "language": "python",
   "name": "python3"
  },
  "language_info": {
   "codemirror_mode": {
    "name": "ipython",
    "version": 3
   },
   "file_extension": ".py",
   "mimetype": "text/x-python",
   "name": "python",
   "nbconvert_exporter": "python",
   "pygments_lexer": "ipython3",
   "version": "3.9.7"
  }
 },
 "nbformat": 4,
 "nbformat_minor": 5
}
