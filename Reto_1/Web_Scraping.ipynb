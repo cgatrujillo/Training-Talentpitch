{
 "cells": [
  {
   "cell_type": "markdown",
   "id": "65176966",
   "metadata": {},
   "source": [
    "# Comunidad\n",
    "## Emprendedores\n",
    "### https://www.emprendedores.es/seccion/guia-juridica-fiscal/"
   ]
  },
  {
   "cell_type": "code",
   "execution_count": 1,
   "id": "4115ab4a",
   "metadata": {},
   "outputs": [],
   "source": [
    "# Módulos\n",
    "import pandas as pd\n",
    "import requests as r\n",
    "from bs4 import BeautifulSoup as bs4\n",
    "import csv"
   ]
  },
  {
   "cell_type": "code",
   "execution_count": 2,
   "id": "f290b032",
   "metadata": {},
   "outputs": [],
   "source": [
    "def scrape_new_card(new_meta):\n",
    "    \"\"\"\n",
    "    Busca parámetros necesarios para Dataframe en contenido HTML o CSS de página\n",
    "    \n",
    "    Argumentos:\n",
    "    'new_meta': Sección de página web que contiene la noticia\n",
    "    \n",
    "    Outputs:\n",
    "    'comunidad, title, link, description': Retorno de parámetros\n",
    "    \"\"\"\n",
    "        \n",
    "    comunidad = 'Emprendedores'\n",
    "    try:\n",
    "        title = new_meta.find('h2', {'class':'full-item-title item-title entry-title'}).get_text()\n",
    "    except:\n",
    "        title = 'No title found'\n",
    "    try:\n",
    "        link = new_meta.find('a',{'rel':'bookmark'})['href']\n",
    "    except:\n",
    "        link = 'No link found'\n",
    "    try:\n",
    "        description = new_meta.find('div', {'class':'full-item-dek item-dek'}).get_text().strip('\\n')\n",
    "    except:\n",
    "        description = 'Description not found'\n",
    "    return comunidad, title, link, description"
   ]
  },
  {
   "cell_type": "code",
   "execution_count": 3,
   "id": "f8161efa",
   "metadata": {},
   "outputs": [],
   "source": [
    "def scrape_news_page_meta(news_page_html, news_df):\n",
    "    \"\"\"\n",
    "    Se encarga de buscar los artículos y noticias de la página para después pasar los contenido a un dataframe\n",
    "    \n",
    "    Argumentos:\n",
    "    'new_page_html': Contiene página web\n",
    "    'news_df': Dataframe que contiene la información de noticias en páginas pasadas\n",
    "    \n",
    "    Outputs:\n",
    "    'news_df': Retorno de Dataframe actualizado con las noticias de la página\n",
    "    \"\"\"\n",
    "    \n",
    "    page_soup = bs4(news_page_html.text, 'lxml')\n",
    "    \n",
    "    for new in page_soup.find_all('article',{\"class\":\"full-item\"}):\n",
    "        comunidad, title, link, description = scrape_new_card(new)    \n",
    "        news_dict = {'Comunidad': comunidad,\n",
    "                    'Titulos': [title],\n",
    "                    'Links': [link],\n",
    "                    'Descripciones': [description]}\n",
    "        n_df = pd.DataFrame.from_dict(news_dict)\n",
    "        news_df= pd.concat([news_df, n_df], ignore_index=True)\n",
    "    return news_df"
   ]
  },
  {
   "cell_type": "code",
   "execution_count": 4,
   "id": "d4fa6595",
   "metadata": {},
   "outputs": [],
   "source": [
    "page = 1 # Se inicializa contador para ciclo\n",
    "# Generación de dataframe\n",
    "df_columns = ['Comunidad', 'Titulos', 'Links', 'Descripciones']\n",
    "news_df = pd.DataFrame(columns = df_columns)\n",
    "\n",
    "# Ciclo que hace scraping a seis páginas de la web\n",
    "while page != 6:\n",
    "    news_page_html = r.get(f'https://www.emprendedores.es/seccion/guia-juridica-fiscal/page/{page}')\n",
    "    news_df = scrape_news_page_meta(news_page_html, news_df)\n",
    "    page = page + 1"
   ]
  },
  {
   "cell_type": "code",
   "execution_count": 5,
   "id": "2d2c001d",
   "metadata": {},
   "outputs": [
    {
     "data": {
      "text/plain": [
       "(50, 4)"
      ]
     },
     "execution_count": 5,
     "metadata": {},
     "output_type": "execute_result"
    }
   ],
   "source": [
    "news_df.shape #Información sobre columnas y filas que tiene actualmente el dataframe"
   ]
  },
  {
   "cell_type": "markdown",
   "id": "5a924900",
   "metadata": {},
   "source": [
    "### https://www.portafolio.co/negocios/emprendimiento"
   ]
  },
  {
   "cell_type": "code",
   "execution_count": 6,
   "id": "dee459df",
   "metadata": {},
   "outputs": [],
   "source": [
    "def scrape_new_card(new_meta):\n",
    "    comunidad = 'Emprendedores'\n",
    "    try:\n",
    "        title = new_meta.find('h3', {'class':'listing-title'}).get_text().strip('\\n')\n",
    "    except:\n",
    "        title = 'No title found'\n",
    "    try:\n",
    "        link = new_meta.find('meta',{'itemprop':'mainEntityOfPage'})['itemid']\n",
    "    except:\n",
    "        link = 'No link found'\n",
    "    try:\n",
    "        description = new_meta.find('div', {'class':'listing-epigraph'}).get_text().strip('\\n')\n",
    "    except:\n",
    "        description = 'Description not found'\n",
    "    return comunidad, title, link, description"
   ]
  },
  {
   "cell_type": "code",
   "execution_count": 7,
   "id": "bfd699af",
   "metadata": {},
   "outputs": [],
   "source": [
    "def scrape_news_page_meta(news_page_html, news_df):\n",
    "    page_soup = bs4(news_page_html.text, 'lxml')\n",
    "    \n",
    "    for new in page_soup.find_all('div',{\"itemtype\":\"https://schema.org/NewsArticle\"}):\n",
    "        comunidad, title, link, description = scrape_new_card(new)    \n",
    "        news_dict = {'Comunidad': comunidad,\n",
    "                    'Titulos': [title],\n",
    "                    'Links': [link],\n",
    "                    'Descripciones': [description]}\n",
    "        n_df = pd.DataFrame.from_dict(news_dict)\n",
    "        news_df= pd.concat([news_df, n_df], ignore_index=True)\n",
    "    return news_df"
   ]
  },
  {
   "cell_type": "code",
   "execution_count": 8,
   "id": "4c0fb3ae",
   "metadata": {},
   "outputs": [],
   "source": [
    "page = 1\n",
    "#df_columns = ['Comunidad', 'Titulos', 'Links', 'Descripciones']\n",
    "#news_df = pd.DataFrame(columns = df_columns)\n",
    "\n",
    "while page != 6:\n",
    "    news_page_html = r.get(f'https://www.portafolio.co/page/emprendimiento-1.html?page={page}&settings=%7B%22subcategoryFilter%22%3Afalse%2C%22viewSetting%22%3Afalse%7D')\n",
    "    news_df = scrape_news_page_meta(news_page_html, news_df)\n",
    "    page = page + 1"
   ]
  },
  {
   "cell_type": "code",
   "execution_count": 9,
   "id": "c48ae521",
   "metadata": {},
   "outputs": [
    {
     "data": {
      "text/plain": [
       "(95, 4)"
      ]
     },
     "execution_count": 9,
     "metadata": {},
     "output_type": "execute_result"
    }
   ],
   "source": [
    "news_df.shape"
   ]
  },
  {
   "cell_type": "markdown",
   "id": "e09bca14",
   "metadata": {},
   "source": [
    "### https://www.expansion.com/expansion-empleo/emprendedores.html"
   ]
  },
  {
   "cell_type": "code",
   "execution_count": 10,
   "id": "7a5f49fe",
   "metadata": {},
   "outputs": [],
   "source": [
    "def scrape_new_card(new_meta):\n",
    "    comunidad = 'Emprendedores'\n",
    "    try:\n",
    "        title = new_meta.find('h2', {'class':'ue-c-cover-content__headline'}).get_text().strip('\\n')\n",
    "    except:\n",
    "        title = 'No title found'\n",
    "    try:\n",
    "        link = new_meta.find('a',{'class':'ue-c-cover-content__link'})['href']\n",
    "    except:\n",
    "        link = 'No link found'\n",
    "    try:\n",
    "        description_html = r.get(link)\n",
    "        description_soup = bs4(description_html.text, 'lxml')\n",
    "        description = description_soup.find('p', {'class':'ue-c-article__standfirst'}).get_text().strip('\\n')\n",
    "    except:\n",
    "        description = 'Description not found'\n",
    "    return comunidad, title, link, description"
   ]
  },
  {
   "cell_type": "code",
   "execution_count": 11,
   "id": "338dd01d",
   "metadata": {},
   "outputs": [],
   "source": [
    "news_page_html = r.get('https://www.expansion.com/expansion-empleo/emprendedores.html')\n",
    "page_soup = bs4(news_page_html.text, 'lxml')\n",
    "\n",
    "#df_columns = ['Comunidad', 'Titulos', 'Links', 'Descripciones']\n",
    "#news_df = pd.DataFrame(columns = df_columns)\n",
    "\n",
    "\n",
    "for new in page_soup.find_all('div',{\"class\":\"ue-l-cover-grid__unit ue-l-cover-grid__unit--no-grow\"}):\n",
    "    comunidad, title, link, description = scrape_new_card(new)    \n",
    "    news_dict = {'Comunidad': comunidad,\n",
    "                'Titulos': [title],\n",
    "                'Links': [link],\n",
    "                'Descripciones': [description]}\n",
    "    n_df = pd.DataFrame.from_dict(news_dict)\n",
    "    news_df= pd.concat([news_df, n_df], ignore_index=True)"
   ]
  },
  {
   "cell_type": "code",
   "execution_count": 12,
   "id": "9ce20c00",
   "metadata": {},
   "outputs": [
    {
     "data": {
      "text/plain": [
       "(130, 4)"
      ]
     },
     "execution_count": 12,
     "metadata": {},
     "output_type": "execute_result"
    }
   ],
   "source": [
    "news_df.shape"
   ]
  },
  {
   "cell_type": "markdown",
   "id": "2e69ca25",
   "metadata": {},
   "source": [
    "### https://www.eleconomista.es/pymes/"
   ]
  },
  {
   "cell_type": "code",
   "execution_count": 13,
   "id": "95bd385e",
   "metadata": {},
   "outputs": [],
   "source": [
    "def scrape_new_card(new_meta):\n",
    "    comunidad = 'Emprendedores'\n",
    "    try:\n",
    "        title = new_meta.find('div', {'class':'articleHeadline'}).get_text().strip('\\n')\n",
    "    except:\n",
    "        title = 'No title found'\n",
    "    try:\n",
    "        link = new_meta.find('a',{'itemprop':'mainEntityOfPage'})['href']\n",
    "    except:\n",
    "        link = 'No link found'\n",
    "    try:\n",
    "        description = new_meta.find('p', {'class':'articleText'}).get_text().strip('\\n')\n",
    "    except:\n",
    "        description = 'Description not found'\n",
    "    return comunidad, title, link, description"
   ]
  },
  {
   "cell_type": "code",
   "execution_count": 14,
   "id": "b23f6117",
   "metadata": {},
   "outputs": [],
   "source": [
    "news_page_html = r.get('https://www.eleconomista.es/pymes/')\n",
    "page_soup = bs4(news_page_html.text, 'lxml')\n",
    "\n",
    "#df_columns = ['Comunidad', 'Titulos', 'Links', 'Descripciones']\n",
    "#news_df = pd.DataFrame(columns = df_columns)\n",
    "\n",
    "\n",
    "for new in page_soup.find_all('div',{\"itemtype\":\"http://schema.org/NewsArticle\"}):\n",
    "    comunidad, title, link, description = scrape_new_card(new)    \n",
    "    news_dict = {'Comunidad': comunidad,\n",
    "                'Titulos': [title],\n",
    "                'Links': [link],\n",
    "                'Descripciones': [description]}\n",
    "    n_df = pd.DataFrame.from_dict(news_dict)\n",
    "    news_df= pd.concat([news_df, n_df], ignore_index=True)"
   ]
  },
  {
   "cell_type": "code",
   "execution_count": 15,
   "id": "c3a69413",
   "metadata": {},
   "outputs": [
    {
     "data": {
      "text/plain": [
       "(151, 4)"
      ]
     },
     "execution_count": 15,
     "metadata": {},
     "output_type": "execute_result"
    }
   ],
   "source": [
    "news_df.shape"
   ]
  },
  {
   "cell_type": "markdown",
   "id": "cf079aa0",
   "metadata": {},
   "source": [
    "# Comunidad\n",
    "## Empresa y discapacidad\n",
    "### https://www.larepublica.co/responsabilidad-social"
   ]
  },
  {
   "cell_type": "code",
   "execution_count": 16,
   "id": "2fcd0ddb",
   "metadata": {},
   "outputs": [],
   "source": [
    "def scrape_new_card(new_meta):\n",
    "    comunidad = 'Empresa y discapacidad'\n",
    "    try:\n",
    "        title = new_meta.select('a', {'class': 'responsabilidad-socialSect'})[2].get_text()\n",
    "    except:\n",
    "        title = 'No title found'\n",
    "    try:\n",
    "        link = new_meta.find('a',{'class':'kicker responsabilidad-socialSect'})['href']\n",
    "    except:\n",
    "        link = 'No link found'\n",
    "    try:\n",
    "        description = new_meta.find('p').get_text().strip('\\n')\n",
    "    except:\n",
    "        description = 'Description not found'\n",
    "    return comunidad, title, link, description"
   ]
  },
  {
   "cell_type": "code",
   "execution_count": 17,
   "id": "7f08473b",
   "metadata": {},
   "outputs": [],
   "source": [
    "news_page_html = r.get('https://www.larepublica.co/responsabilidad-social')\n",
    "page_soup = bs4(news_page_html.text, 'lxml')\n",
    "\n",
    "#df_columns = ['Comunidad', 'Titulos', 'Links', 'Descripciones']\n",
    "#news_df = pd.DataFrame(columns = df_columns)\n",
    "\n",
    "\n",
    "for new in page_soup.find_all('div',{\"class\":\"row news H_img_V_Title_Lead m-0\"}):\n",
    "    comunidad, title, link, description = scrape_new_card(new)    \n",
    "    news_dict = {'Comunidad': comunidad,\n",
    "                'Titulos': [title],\n",
    "                'Links': [link],\n",
    "                'Descripciones': [description]}\n",
    "    n_df = pd.DataFrame.from_dict(news_dict)\n",
    "    news_df= pd.concat([news_df, n_df], ignore_index=True)"
   ]
  },
  {
   "cell_type": "code",
   "execution_count": 18,
   "id": "d0924cfd",
   "metadata": {},
   "outputs": [
    {
     "data": {
      "text/plain": [
       "(173, 4)"
      ]
     },
     "execution_count": 18,
     "metadata": {},
     "output_type": "execute_result"
    }
   ],
   "source": [
    "news_df.shape"
   ]
  },
  {
   "cell_type": "markdown",
   "id": "1f464345",
   "metadata": {},
   "source": [
    "### https://blogs.iadb.org/ideas-que-cuentan/es/"
   ]
  },
  {
   "cell_type": "code",
   "execution_count": 19,
   "id": "52201be3",
   "metadata": {},
   "outputs": [],
   "source": [
    "def scrape_new_card(new_meta):\n",
    "    comunidad = 'Empresa y discapacidad'\n",
    "    try:\n",
    "        title = new_meta.find('a', {'class': 'entry-title-link'}).get_text()\n",
    "    except:\n",
    "        title = 'No title found'\n",
    "    try:\n",
    "        link = new_meta.find('a',{'class':'entry-title-link'})['href']\n",
    "    except:\n",
    "        link = 'No link found'\n",
    "    try:\n",
    "        window_descrip = new_meta.find('div',{'class':'entry-content'})\n",
    "        description = window_descrip.find('p').get_text()\n",
    "    except:\n",
    "        description = 'Description not found'\n",
    "    return comunidad, title, link, description"
   ]
  },
  {
   "cell_type": "code",
   "execution_count": 20,
   "id": "4f1d3062",
   "metadata": {},
   "outputs": [],
   "source": [
    "def scrape_news_page_meta(news_page_html, news_df):\n",
    "    page_soup = bs4(news_page_html.text, 'lxml')\n",
    "    \n",
    "    for new in page_soup.find_all('article'):\n",
    "        comunidad, title, link, description = scrape_new_card(new)    \n",
    "        news_dict = {'Comunidad': comunidad,\n",
    "                    'Titulos': [title],\n",
    "                    'Links': [link],\n",
    "                    'Descripciones': [description]}\n",
    "        n_df = pd.DataFrame.from_dict(news_dict)\n",
    "        news_df= pd.concat([news_df, n_df], ignore_index=True)\n",
    "    return news_df"
   ]
  },
  {
   "cell_type": "code",
   "execution_count": 21,
   "id": "463d70e4",
   "metadata": {},
   "outputs": [],
   "source": [
    "page = 1\n",
    "#df_columns = ['Comunidad', 'Titulos', 'Links', 'Descripciones']\n",
    "#news_df = pd.DataFrame(columns = df_columns)\n",
    "\n",
    "while page != 11:\n",
    "    news_page_html = r.get(f'https://blogs.iadb.org/ideas-que-cuentan/es/page/{page}')\n",
    "    news_df = scrape_news_page_meta(news_page_html, news_df)\n",
    "    page = page + 1"
   ]
  },
  {
   "cell_type": "code",
   "execution_count": 22,
   "id": "7497c9e8",
   "metadata": {},
   "outputs": [
    {
     "data": {
      "text/plain": [
       "(223, 4)"
      ]
     },
     "execution_count": 22,
     "metadata": {},
     "output_type": "execute_result"
    }
   ],
   "source": [
    "news_df.shape"
   ]
  },
  {
   "cell_type": "markdown",
   "id": "96a8e5dd",
   "metadata": {},
   "source": [
    "### https://www.weforum.org/topics/education/"
   ]
  },
  {
   "cell_type": "code",
   "execution_count": 23,
   "id": "7e2ccd27",
   "metadata": {},
   "outputs": [],
   "source": [
    "def scrape_new_card(new_meta):\n",
    "    comunidad = 'Empresa y discapacidad'\n",
    "    box = new_meta.find('h5')\n",
    "    try:\n",
    "        title = box.find('a').get_text()\n",
    "    except:\n",
    "        title = 'No title found'\n",
    "    try:\n",
    "        link = box.find('a')['href']\n",
    "    except:\n",
    "        link = 'No link found'\n",
    "    try:\n",
    "        description = new_meta.select('p')[1].get_text().strip('\\n')\n",
    "    except:\n",
    "        description = 'Description not found'\n",
    "    return comunidad, title, link, description"
   ]
  },
  {
   "cell_type": "code",
   "execution_count": 24,
   "id": "6cd04059",
   "metadata": {},
   "outputs": [],
   "source": [
    "news_page_html = r.get('https://www.weforum.org/topics/education/')\n",
    "page_soup = bs4(news_page_html.text, 'lxml')\n",
    "\n",
    "#df_columns = ['Comunidad', 'Titulos', 'Links', 'Descripciones']\n",
    "#news_df = pd.DataFrame(columns = df_columns)\n",
    "\n",
    "\n",
    "for new in page_soup.find_all('div', {'class': 'wef-1bygggf'}):\n",
    "    comunidad, title, link, description = scrape_new_card(new)    \n",
    "    news_dict = {'Comunidad': comunidad,\n",
    "                'Titulos': [title],\n",
    "                'Links': [link],\n",
    "                'Descripciones': [description]}\n",
    "    n_df = pd.DataFrame.from_dict(news_dict)\n",
    "    news_df= pd.concat([news_df, n_df], ignore_index=True)"
   ]
  },
  {
   "cell_type": "code",
   "execution_count": 25,
   "id": "7b62ad57",
   "metadata": {},
   "outputs": [
    {
     "data": {
      "text/plain": [
       "(228, 4)"
      ]
     },
     "execution_count": 25,
     "metadata": {},
     "output_type": "execute_result"
    }
   ],
   "source": [
    "news_df.shape"
   ]
  },
  {
   "cell_type": "markdown",
   "id": "cb2f8f3b",
   "metadata": {},
   "source": [
    "# Comunidad\n",
    "## Mipymes\n",
    "### https://www.bbva.com/es/especiales/bbva-compartiendo-conocimiento/"
   ]
  },
  {
   "cell_type": "code",
   "execution_count": 26,
   "id": "0a41bc90",
   "metadata": {},
   "outputs": [],
   "source": [
    "def scrape_new_card(new_meta):\n",
    "    comunidad = 'Mipymes'\n",
    "    try:\n",
    "        title = new_meta.find('a', {'class': 'datalayer_podcast'})['data-podcastname']\n",
    "    except:\n",
    "        title = 'No title found'\n",
    "    try:\n",
    "        link = new_meta.find('a', {'class': 'datalayer_podcast'})['href']\n",
    "    except:\n",
    "        link = 'No link found'\n",
    "    try:\n",
    "        description = new_meta.find('p', {'class': 'notTexto'}).get_text().strip('\\n')\n",
    "    except:\n",
    "        description = 'Description not found'\n",
    "    return comunidad, title, link, description"
   ]
  },
  {
   "cell_type": "code",
   "execution_count": 27,
   "id": "de17b140",
   "metadata": {},
   "outputs": [],
   "source": [
    "news_page_html = r.get('https://www.bbva.com/es/especiales/bbva-compartiendo-conocimiento/')\n",
    "page_soup = bs4(news_page_html.text, 'lxml')\n",
    "\n",
    "#df_columns = ['Comunidad', 'Titulos', 'Links', 'Descripciones']\n",
    "#news_df = pd.DataFrame(columns = df_columns)\n",
    "\n",
    "\n",
    "for new in page_soup.find_all('article'):\n",
    "    comunidad, title, link, description = scrape_new_card(new)    \n",
    "    news_dict = {'Comunidad': comunidad,\n",
    "                'Titulos': [title],\n",
    "                'Links': [link],\n",
    "                'Descripciones': [description]}\n",
    "    n_df = pd.DataFrame.from_dict(news_dict)\n",
    "    news_df= pd.concat([news_df, n_df], ignore_index=True)"
   ]
  },
  {
   "cell_type": "code",
   "execution_count": 28,
   "id": "01c11f16",
   "metadata": {},
   "outputs": [
    {
     "data": {
      "text/plain": [
       "(259, 4)"
      ]
     },
     "execution_count": 28,
     "metadata": {},
     "output_type": "execute_result"
    }
   ],
   "source": [
    "news_df.shape"
   ]
  },
  {
   "cell_type": "markdown",
   "id": "dd7bc9c8",
   "metadata": {},
   "source": [
    "### https://recruitingdaily.com/articles/"
   ]
  },
  {
   "cell_type": "code",
   "execution_count": 29,
   "id": "204cc3e9",
   "metadata": {},
   "outputs": [],
   "source": [
    "def scrape_new_card(new_meta):\n",
    "    comunidad = 'Mipymes'\n",
    "    try:\n",
    "        title = new_meta.find('h4', {'class': 'card-title'}).get_text()\n",
    "    except:\n",
    "        title = 'No title found'\n",
    "    try:\n",
    "        link = new_meta.find('a')['href']\n",
    "    except:\n",
    "        link = 'No link found'\n",
    "    try:\n",
    "        description = new_meta.find('p').get_text().strip('\\n')\n",
    "    except:\n",
    "        description = 'Description not found'\n",
    "    return comunidad, title, link, description"
   ]
  },
  {
   "cell_type": "code",
   "execution_count": 30,
   "id": "030b2a97",
   "metadata": {},
   "outputs": [],
   "source": [
    "def scrape_news_page_meta(news_page_html, news_df):\n",
    "    page_soup = bs4(news_page_html.text, 'lxml')\n",
    "    \n",
    "    for new in page_soup.find_all('div', {'class': 'card card-wide'}):\n",
    "        comunidad, title, link, description = scrape_new_card(new)    \n",
    "        news_dict = {'Comunidad': comunidad,\n",
    "                    'Titulos': [title],\n",
    "                    'Links': [link],\n",
    "                    'Descripciones': [description]}\n",
    "        n_df = pd.DataFrame.from_dict(news_dict)\n",
    "        news_df= pd.concat([news_df, n_df], ignore_index=True)\n",
    "    return news_df"
   ]
  },
  {
   "cell_type": "code",
   "execution_count": 31,
   "id": "333180d9",
   "metadata": {},
   "outputs": [],
   "source": [
    "page = 1\n",
    "#df_columns = ['Comunidad', 'Titulos', 'Links', 'Descripciones']\n",
    "#news_df = pd.DataFrame(columns = df_columns)\n",
    "\n",
    "while page != 6:\n",
    "    news_page_html = r.get(f'https://recruitingdaily.com/articles/page/{page}')\n",
    "    news_df = scrape_news_page_meta(news_page_html, news_df)\n",
    "    page = page + 1"
   ]
  },
  {
   "cell_type": "code",
   "execution_count": 32,
   "id": "04cd3d1e",
   "metadata": {},
   "outputs": [
    {
     "data": {
      "text/plain": [
       "(334, 4)"
      ]
     },
     "execution_count": 32,
     "metadata": {},
     "output_type": "execute_result"
    }
   ],
   "source": [
    "news_df.shape"
   ]
  },
  {
   "cell_type": "markdown",
   "id": "292aba27",
   "metadata": {},
   "source": [
    "### https://www.portafolio.co/innovacion"
   ]
  },
  {
   "cell_type": "code",
   "execution_count": 33,
   "id": "0ef939d5",
   "metadata": {},
   "outputs": [],
   "source": [
    "def scrape_new_card(new_meta):\n",
    "    comunidad = 'Mipymes'\n",
    "    try:\n",
    "        title = new_meta.find('h3', {'class': 'listing-title'}).get_text().strip('\\n')\n",
    "    except:\n",
    "        title = 'No title found'\n",
    "    try:\n",
    "        link = new_meta.find('meta',{'itemprop':'mainEntityOfPage'})['itemid']\n",
    "    except:\n",
    "        link = 'No link found'\n",
    "    try:\n",
    "        description = new_meta.find('div', {'class':'listing-epigraph'}).get_text().strip('\\n')\n",
    "    except:\n",
    "        description = 'Description not found'\n",
    "    return comunidad, title, link, description"
   ]
  },
  {
   "cell_type": "code",
   "execution_count": 34,
   "id": "1b734958",
   "metadata": {},
   "outputs": [],
   "source": [
    "def scrape_news_page_meta(news_page_html, news_df):\n",
    "    page_soup = bs4(news_page_html.text, 'lxml')\n",
    "    \n",
    "    for new in page_soup.find_all('div',{\"itemtype\":\"https://schema.org/NewsArticle\"}):\n",
    "        comunidad, title, link, description = scrape_new_card(new)    \n",
    "        news_dict = {'Comunidad': comunidad,\n",
    "                    'Titulos': [title],\n",
    "                    'Links': [link],\n",
    "                    'Descripciones': [description]}\n",
    "        n_df = pd.DataFrame.from_dict(news_dict)\n",
    "        news_df= pd.concat([news_df, n_df], ignore_index=True)\n",
    "    return news_df"
   ]
  },
  {
   "cell_type": "code",
   "execution_count": 35,
   "id": "8f5cd61a",
   "metadata": {},
   "outputs": [],
   "source": [
    "page = 1\n",
    "#df_columns = ['Comunidad', 'Titulos', 'Links', 'Descripciones']\n",
    "#news_df = pd.DataFrame(columns = df_columns)\n",
    "\n",
    "while page != 6:\n",
    "    news_page_html = r.get(f'https://www.portafolio.co/page/innovacion-1.html?page={page}')\n",
    "    news_df = scrape_news_page_meta(news_page_html, news_df)\n",
    "    page = page + 1"
   ]
  },
  {
   "cell_type": "code",
   "execution_count": 36,
   "id": "4b1a23f7",
   "metadata": {},
   "outputs": [
    {
     "data": {
      "text/plain": [
       "(379, 4)"
      ]
     },
     "execution_count": 36,
     "metadata": {},
     "output_type": "execute_result"
    }
   ],
   "source": [
    "news_df.shape"
   ]
  },
  {
   "cell_type": "markdown",
   "id": "d4e59d0a",
   "metadata": {},
   "source": [
    "# Dataframe completo"
   ]
  },
  {
   "cell_type": "code",
   "execution_count": 37,
   "id": "2d09ead4",
   "metadata": {},
   "outputs": [
    {
     "data": {
      "text/plain": [
       "(379, 4)"
      ]
     },
     "execution_count": 37,
     "metadata": {},
     "output_type": "execute_result"
    }
   ],
   "source": [
    "news_df.shape"
   ]
  },
  {
   "cell_type": "code",
   "execution_count": 38,
   "id": "78a5c9a2",
   "metadata": {},
   "outputs": [
    {
     "data": {
      "text/html": [
       "<div>\n",
       "<style scoped>\n",
       "    .dataframe tbody tr th:only-of-type {\n",
       "        vertical-align: middle;\n",
       "    }\n",
       "\n",
       "    .dataframe tbody tr th {\n",
       "        vertical-align: top;\n",
       "    }\n",
       "\n",
       "    .dataframe thead th {\n",
       "        text-align: right;\n",
       "    }\n",
       "</style>\n",
       "<table border=\"1\" class=\"dataframe\">\n",
       "  <thead>\n",
       "    <tr style=\"text-align: right;\">\n",
       "      <th></th>\n",
       "      <th>Comunidad</th>\n",
       "      <th>Titulos</th>\n",
       "      <th>Links</th>\n",
       "      <th>Descripciones</th>\n",
       "    </tr>\n",
       "  </thead>\n",
       "  <tbody>\n",
       "    <tr>\n",
       "      <th>374</th>\n",
       "      <td>Mipymes</td>\n",
       "      <td>Emprendimiento colombiano de cannabis lanza su...</td>\n",
       "      <td>https://www.portafolio.co/innovacion/greenlab-...</td>\n",
       "      <td>Se trata de Greenlab, que pondrá a la venta 5....</td>\n",
       "    </tr>\n",
       "    <tr>\n",
       "      <th>375</th>\n",
       "      <td>Mipymes</td>\n",
       "      <td>¿Está América Latina preparada para el interne...</td>\n",
       "      <td>https://www.portafolio.co/innovacion/esta-amer...</td>\n",
       "      <td>La penetración del IoT requiere de infraestruc...</td>\n",
       "    </tr>\n",
       "    <tr>\n",
       "      <th>376</th>\n",
       "      <td>Mipymes</td>\n",
       "      <td>Sector 'proptech' en Colombia captó más de US$...</td>\n",
       "      <td>https://www.portafolio.co/innovacion/sector-pr...</td>\n",
       "      <td>Durante el 2022 se espera aumentar de manera r...</td>\n",
       "    </tr>\n",
       "    <tr>\n",
       "      <th>377</th>\n",
       "      <td>Mipymes</td>\n",
       "      <td>Transferencias inmediatas por Transfiya aument...</td>\n",
       "      <td>https://www.portafolio.co/innovacion/transfere...</td>\n",
       "      <td>El servicio desarrollado por ACH Colombia tien...</td>\n",
       "    </tr>\n",
       "    <tr>\n",
       "      <th>378</th>\n",
       "      <td>Mipymes</td>\n",
       "      <td>WhatsApp planea mejorar la función ‘Eliminar m...</td>\n",
       "      <td>https://www.portafolio.co/innovacion/whatsapp-...</td>\n",
       "      <td>La aplicación de mensajería instantánea está t...</td>\n",
       "    </tr>\n",
       "  </tbody>\n",
       "</table>\n",
       "</div>"
      ],
      "text/plain": [
       "    Comunidad                                            Titulos  \\\n",
       "374   Mipymes  Emprendimiento colombiano de cannabis lanza su...   \n",
       "375   Mipymes  ¿Está América Latina preparada para el interne...   \n",
       "376   Mipymes  Sector 'proptech' en Colombia captó más de US$...   \n",
       "377   Mipymes  Transferencias inmediatas por Transfiya aument...   \n",
       "378   Mipymes  WhatsApp planea mejorar la función ‘Eliminar m...   \n",
       "\n",
       "                                                 Links  \\\n",
       "374  https://www.portafolio.co/innovacion/greenlab-...   \n",
       "375  https://www.portafolio.co/innovacion/esta-amer...   \n",
       "376  https://www.portafolio.co/innovacion/sector-pr...   \n",
       "377  https://www.portafolio.co/innovacion/transfere...   \n",
       "378  https://www.portafolio.co/innovacion/whatsapp-...   \n",
       "\n",
       "                                         Descripciones  \n",
       "374  Se trata de Greenlab, que pondrá a la venta 5....  \n",
       "375  La penetración del IoT requiere de infraestruc...  \n",
       "376  Durante el 2022 se espera aumentar de manera r...  \n",
       "377  El servicio desarrollado por ACH Colombia tien...  \n",
       "378  La aplicación de mensajería instantánea está t...  "
      ]
     },
     "execution_count": 38,
     "metadata": {},
     "output_type": "execute_result"
    }
   ],
   "source": [
    "news_df.tail()"
   ]
  },
  {
   "cell_type": "code",
   "execution_count": 48,
   "id": "ac4c985e",
   "metadata": {},
   "outputs": [],
   "source": [
    "news_df.to_excel(\"News_whatsapp.xlsx\", index=False) #Carga de Dataframe completo a archivo excel\n",
    "news_df.to_pickle(\"./News_whatsapp.pkl\")  #Carga de Dataframe completo a archivo pickle"
   ]
  },
  {
   "cell_type": "markdown",
   "id": "6f5061b1",
   "metadata": {},
   "source": [
    "### https://www.hrexchangenetwork.com/"
   ]
  },
  {
   "cell_type": "code",
   "execution_count": 40,
   "id": "7cdac025",
   "metadata": {},
   "outputs": [
    {
     "data": {
      "text/plain": [
       "\"\\ndef scrape_new_card(new_meta):\\n    comunidad = 'Mipymes'\\n    try:\\n        title = new_meta.find('h3', {'class': 'article-title'}).get_text().strip('\\n')\\n    except:\\n        title = 'No title found'\\n    try:\\n        link = new_meta.find('a')['href']\\n    except:\\n        link = 'No link found'\\n    try:\\n        description = new_meta.find('div', {'class':'entry-content mt-3'}).get_text().strip('\\n')\\n    except:\\n        description = 'Description not found'\\n    return comunidad, title, link, description\\n\""
      ]
     },
     "execution_count": 40,
     "metadata": {},
     "output_type": "execute_result"
    }
   ],
   "source": [
    "'''\n",
    "def scrape_new_card(new_meta):\n",
    "    comunidad = 'Mipymes'\n",
    "    try:\n",
    "        title = new_meta.find('h3', {'class': 'article-title'}).get_text().strip('\\n')\n",
    "    except:\n",
    "        title = 'No title found'\n",
    "    try:\n",
    "        link = new_meta.find('a')['href']\n",
    "    except:\n",
    "        link = 'No link found'\n",
    "    try:\n",
    "        description = new_meta.find('div', {'class':'entry-content mt-3'}).get_text().strip('\\n')\n",
    "    except:\n",
    "        description = 'Description not found'\n",
    "    return comunidad, title, link, description\n",
    "'''"
   ]
  },
  {
   "cell_type": "code",
   "execution_count": 41,
   "id": "eab0de2c",
   "metadata": {},
   "outputs": [
    {
     "data": {
      "text/plain": [
       "'\\nheaders = {\"user-agent\": \"Mozilla/5.0 (Windows NT 10.0; Win64; x64) AppleWebKit/537.36 (KHTML, like Gecko) Chrome/88.0.4324.182 Safari/537.36\"}\\nnews_page_html = r.get(\\'https://www.hrexchangenetwork.com/\\', headers=headers)\\npage_soup = bs4(news_page_html.text, \\'lxml\\')\\n\\ndf_columns = [\\'Comunidad\\', \\'Titulos\\', \\'Links\\', \\'Descripciones\\']\\nnews_df = pd.DataFrame(columns = df_columns)\\n\\n\\nfor new in page_soup.find_all(\\'article\\',{\"class\":\"border-bottom border-hr-secondary\"}):\\n    comunidad, title, link, description = scrape_new_card(new)    \\n    news_dict = {\\'Comunidad\\': comunidad,\\n                \\'Titulos\\': [title],\\n                \\'Links\\': [link],\\n                \\'Descripciones\\': [description]}\\n    n_df = pd.DataFrame.from_dict(news_dict)\\n    news_df= pd.concat([news_df, n_df], ignore_index=True)\\n'"
      ]
     },
     "execution_count": 41,
     "metadata": {},
     "output_type": "execute_result"
    }
   ],
   "source": [
    "'''\n",
    "headers = {\"user-agent\": \"Mozilla/5.0 (Windows NT 10.0; Win64; x64) AppleWebKit/537.36 (KHTML, like Gecko) Chrome/88.0.4324.182 Safari/537.36\"}\n",
    "news_page_html = r.get('https://www.hrexchangenetwork.com/', headers=headers)\n",
    "page_soup = bs4(news_page_html.text, 'lxml')\n",
    "\n",
    "df_columns = ['Comunidad', 'Titulos', 'Links', 'Descripciones']\n",
    "news_df = pd.DataFrame(columns = df_columns)\n",
    "\n",
    "\n",
    "for new in page_soup.find_all('article',{\"class\":\"border-bottom border-hr-secondary\"}):\n",
    "    comunidad, title, link, description = scrape_new_card(new)    \n",
    "    news_dict = {'Comunidad': comunidad,\n",
    "                'Titulos': [title],\n",
    "                'Links': [link],\n",
    "                'Descripciones': [description]}\n",
    "    n_df = pd.DataFrame.from_dict(news_dict)\n",
    "    news_df= pd.concat([news_df, n_df], ignore_index=True)\n",
    "'''"
   ]
  },
  {
   "cell_type": "code",
   "execution_count": 42,
   "id": "aea73de1",
   "metadata": {},
   "outputs": [
    {
     "data": {
      "text/plain": [
       "'\\nfor new in page_soup.find_all():\\n    print(new)\\n'"
      ]
     },
     "execution_count": 42,
     "metadata": {},
     "output_type": "execute_result"
    }
   ],
   "source": [
    "'''\n",
    "for new in page_soup.find_all():\n",
    "    print(new)\n",
    "'''"
   ]
  }
 ],
 "metadata": {
  "kernelspec": {
   "display_name": "Python 3 (ipykernel)",
   "language": "python",
   "name": "python3"
  },
  "language_info": {
   "codemirror_mode": {
    "name": "ipython",
    "version": 3
   },
   "file_extension": ".py",
   "mimetype": "text/x-python",
   "name": "python",
   "nbconvert_exporter": "python",
   "pygments_lexer": "ipython3",
   "version": "3.9.7"
  }
 },
 "nbformat": 4,
 "nbformat_minor": 5
}
